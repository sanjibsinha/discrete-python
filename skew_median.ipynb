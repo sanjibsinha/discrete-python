{
  "nbformat": 4,
  "nbformat_minor": 0,
  "metadata": {
    "colab": {
      "name": "skew-median.ipynb",
      "provenance": [],
      "collapsed_sections": [],
      "authorship_tag": "ABX9TyMIDriNQh3TDpzo1oB35tk3",
      "include_colab_link": true
    },
    "kernelspec": {
      "name": "python3",
      "display_name": "Python 3"
    },
    "language_info": {
      "name": "python"
    }
  },
  "cells": [
    {
      "cell_type": "markdown",
      "metadata": {
        "id": "view-in-github",
        "colab_type": "text"
      },
      "source": [
        "<a href=\"https://colab.research.google.com/github/sanjibsinha/discrete-python/blob/data-set/skew_median.ipynb\" target=\"_parent\"><img src=\"https://colab.research.google.com/assets/colab-badge.svg\" alt=\"Open In Colab\"/></a>"
      ]
    },
    {
      "cell_type": "code",
      "execution_count": 2,
      "metadata": {
        "colab": {
          "base_uri": "https://localhost:8080/"
        },
        "id": "E3HSzBdOuDr2",
        "outputId": "edc18f7e-3209-4d67-caf6-362dbc86b7bd"
      },
      "outputs": [
        {
          "output_type": "stream",
          "name": "stdout",
          "text": [
            "[   1 1200    2    3  568    4    5    3    2]\n",
            "Array after the sorting: [   1    2    2    3    3    4    5  568 1200]\n",
            "Median: 1200\n",
            "Median from NumPy: 3.0\n"
          ]
        }
      ],
      "source": [
        "import numpy as np\n",
        "\n",
        "def get_median(the_array, num):\n",
        "  # we know that median varies due to the odd and even numbers\n",
        "  # let us sort the array first\n",
        "  the_array.sort()\n",
        "  # next check for the even case\n",
        "  if (num % 2 != 0):\n",
        "    even = num // 2\n",
        "    median = the_array[(even)]\n",
        "    return median\n",
        "  else:\n",
        "    # check for the odd case\n",
        "    median = (the_array[(num - 1) / 2] + the_array[num / 2]) / 2.0\n",
        "    return median\n",
        "\n",
        "the_array = np.array([1, 1200, 2, 3, 568, 4, 5, 3, 2])\n",
        "print(the_array) \n",
        "print(f'Array after the sorting: {np.sort(the_array)}') \n",
        "length = np.count_nonzero(the_array) + 8\n",
        "\n",
        "\n",
        "print(f'Median: {get_median(the_array, length)}')\n",
        "print(f'Median from NumPy: {np.median(the_array)}')"
      ]
    }
  ]
}