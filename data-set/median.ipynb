{
  "nbformat": 4,
  "nbformat_minor": 0,
  "metadata": {
    "colab": {
      "name": "median.ipynb",
      "provenance": [],
      "collapsed_sections": [],
      "authorship_tag": "ABX9TyNsyquIMxvxoyCKE3RySvpu",
      "include_colab_link": true
    },
    "kernelspec": {
      "name": "python3",
      "display_name": "Python 3"
    },
    "language_info": {
      "name": "python"
    }
  },
  "cells": [
    {
      "cell_type": "markdown",
      "metadata": {
        "id": "view-in-github",
        "colab_type": "text"
      },
      "source": [
        "<a href=\"https://colab.research.google.com/github/sanjibsinha/discrete-python/blob/data-set/median.ipynb\" target=\"_parent\"><img src=\"https://colab.research.google.com/assets/colab-badge.svg\" alt=\"Open In Colab\"/></a>"
      ]
    },
    {
      "cell_type": "code",
      "execution_count": null,
      "metadata": {
        "colab": {
          "base_uri": "https://localhost:8080/"
        },
        "id": "MkfLWsWnVm_O",
        "outputId": "a8f30d59-5b70-45b6-bfe8-6dc3ae98ad3f"
      },
      "outputs": [
        {
          "output_type": "stream",
          "name": "stdout",
          "text": [
            "hello\n",
            "[1 3 4 2 6 5 7]\n",
            "Median: 4\n",
            "Median from NumPy: 4.0\n"
          ]
        }
      ],
      "source": [
        "import numpy as np\n",
        "\n",
        "print('hello')\n",
        "\n",
        "def get_median(the_array, num):\n",
        "  # we know that median varies due to the odd and even numbers\n",
        "  # let us sort the array first\n",
        "  the_array.sort()\n",
        "  # next check for the even case\n",
        "  if (num % 2 != 0):\n",
        "    even = num // 2\n",
        "    median = the_array[(even)]\n",
        "    return median\n",
        "  else:\n",
        "    # check for the odd case\n",
        "    median = (the_array[(num - 1) / 2] + the_array[num / 2]) / 2.0\n",
        "    return median\n",
        "\n",
        "the_array = np.array([1, 3, 4, 2, 6, 5, 7])\n",
        "print(the_array) \n",
        "length = np.count_nonzero(the_array)\n",
        "\n",
        "\n",
        "print(f'Median: {get_median(the_array, length)}')\n",
        "print(f'Median from NumPy: {np.median(the_array)}')\n",
        "  \n"
      ]
    }
  ]
}