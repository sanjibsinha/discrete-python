{
  "nbformat": 4,
  "nbformat_minor": 0,
  "metadata": {
    "colab": {
      "name": "mean.ipynb",
      "provenance": [],
      "collapsed_sections": [],
      "authorship_tag": "ABX9TyNL0NDNo6HYCrOGTeMz6qTL",
      "include_colab_link": true
    },
    "kernelspec": {
      "name": "python3",
      "display_name": "Python 3"
    },
    "language_info": {
      "name": "python"
    }
  },
  "cells": [
    {
      "cell_type": "markdown",
      "metadata": {
        "id": "view-in-github",
        "colab_type": "text"
      },
      "source": [
        "<a href=\"https://colab.research.google.com/github/sanjibsinha/discrete-python/blob/data-set/mean.ipynb\" target=\"_parent\"><img src=\"https://colab.research.google.com/assets/colab-badge.svg\" alt=\"Open In Colab\"/></a>"
      ]
    },
    {
      "cell_type": "code",
      "execution_count": 4,
      "metadata": {
        "colab": {
          "base_uri": "https://localhost:8080/"
        },
        "id": "Kfx5KfwRJzsY",
        "outputId": "2505bb99-9107-443b-ca04-fa568c5d634a"
      },
      "outputs": [
        {
          "output_type": "stream",
          "name": "stdout",
          "text": [
            "Mean: 198.66666666666666\n"
          ]
        }
      ],
      "source": [
        "import numpy as np\n",
        "\n",
        "\n",
        "mean = 0.0\n",
        "median = 0.0\n",
        "\n",
        "def find_mean(the_array, num):\n",
        "  sum = 0.0\n",
        "  i = 0\n",
        "  while(i < num):\n",
        "    sum = sum + the_array[i]\n",
        "    i = i + 1\n",
        "  mean = sum / num\n",
        "  return mean\n",
        "the_array = np.array([1, 2, 3, 4, 5, 3, 2, 568, 1200])\n",
        "length_of_array = len(the_array)\n",
        "print(f'Mean: {find_mean(the_array, length_of_array)}')\n"
      ]
    }
  ]
}